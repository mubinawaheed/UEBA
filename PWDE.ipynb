{
 "cells": [
  {
   "cell_type": "code",
   "execution_count": 1,
   "id": "83ded2e9",
   "metadata": {},
   "outputs": [],
   "source": [
    "import numpy as np\n",
    "import pandas as pd\n",
    "import matplotlib.pyplot as plt\n",
    "import seaborn as sns\n",
    "from sklearn.preprocessing import MinMaxScaler, StandardScaler\n",
    "import warnings\n",
    "warnings.filterwarnings('ignore')\n",
    "from scipy.stats import kde\n",
    "from fitter import Fitter, get_common_distributions, get_distributions\n",
    "# from matplotlib.mlab import bivariate_normal\n",
    "from mpl_toolkits.mplot3d import Axes3D"
   ]
  },
  {
   "cell_type": "code",
   "execution_count": 2,
   "id": "3081e831",
   "metadata": {},
   "outputs": [
    {
     "data": {
      "text/html": [
       "<div>\n",
       "<style scoped>\n",
       "    .dataframe tbody tr th:only-of-type {\n",
       "        vertical-align: middle;\n",
       "    }\n",
       "\n",
       "    .dataframe tbody tr th {\n",
       "        vertical-align: top;\n",
       "    }\n",
       "\n",
       "    .dataframe thead th {\n",
       "        text-align: right;\n",
       "    }\n",
       "</style>\n",
       "<table border=\"1\" class=\"dataframe\">\n",
       "  <thead>\n",
       "    <tr style=\"text-align: right;\">\n",
       "      <th></th>\n",
       "      <th>str_date</th>\n",
       "      <th>Negative</th>\n",
       "      <th>Neutral</th>\n",
       "      <th>Positive</th>\n",
       "      <th>Logoff</th>\n",
       "      <th>Logon</th>\n",
       "      <th>Connect</th>\n",
       "      <th>Disconnect</th>\n",
       "    </tr>\n",
       "  </thead>\n",
       "  <tbody>\n",
       "    <tr>\n",
       "      <th>0</th>\n",
       "      <td>01-04-2010</td>\n",
       "      <td>4.0</td>\n",
       "      <td>1.0</td>\n",
       "      <td>6.0</td>\n",
       "      <td>3</td>\n",
       "      <td>3</td>\n",
       "      <td>0.0</td>\n",
       "      <td>0.0</td>\n",
       "    </tr>\n",
       "    <tr>\n",
       "      <th>1</th>\n",
       "      <td>01-05-2010</td>\n",
       "      <td>6.0</td>\n",
       "      <td>1.0</td>\n",
       "      <td>4.0</td>\n",
       "      <td>3</td>\n",
       "      <td>3</td>\n",
       "      <td>0.0</td>\n",
       "      <td>0.0</td>\n",
       "    </tr>\n",
       "    <tr>\n",
       "      <th>2</th>\n",
       "      <td>01-06-2010</td>\n",
       "      <td>4.0</td>\n",
       "      <td>1.0</td>\n",
       "      <td>5.0</td>\n",
       "      <td>3</td>\n",
       "      <td>3</td>\n",
       "      <td>0.0</td>\n",
       "      <td>0.0</td>\n",
       "    </tr>\n",
       "    <tr>\n",
       "      <th>3</th>\n",
       "      <td>01-07-2010</td>\n",
       "      <td>5.0</td>\n",
       "      <td>1.0</td>\n",
       "      <td>5.0</td>\n",
       "      <td>3</td>\n",
       "      <td>3</td>\n",
       "      <td>0.0</td>\n",
       "      <td>0.0</td>\n",
       "    </tr>\n",
       "    <tr>\n",
       "      <th>4</th>\n",
       "      <td>01-08-2010</td>\n",
       "      <td>6.0</td>\n",
       "      <td>0.0</td>\n",
       "      <td>4.0</td>\n",
       "      <td>4</td>\n",
       "      <td>4</td>\n",
       "      <td>0.0</td>\n",
       "      <td>0.0</td>\n",
       "    </tr>\n",
       "    <tr>\n",
       "      <th>5</th>\n",
       "      <td>01-11-2010</td>\n",
       "      <td>2.0</td>\n",
       "      <td>0.0</td>\n",
       "      <td>9.0</td>\n",
       "      <td>2</td>\n",
       "      <td>2</td>\n",
       "      <td>0.0</td>\n",
       "      <td>0.0</td>\n",
       "    </tr>\n",
       "    <tr>\n",
       "      <th>6</th>\n",
       "      <td>01-12-2010</td>\n",
       "      <td>5.0</td>\n",
       "      <td>0.0</td>\n",
       "      <td>6.0</td>\n",
       "      <td>5</td>\n",
       "      <td>5</td>\n",
       "      <td>0.0</td>\n",
       "      <td>0.0</td>\n",
       "    </tr>\n",
       "    <tr>\n",
       "      <th>7</th>\n",
       "      <td>01-13-2010</td>\n",
       "      <td>5.0</td>\n",
       "      <td>2.0</td>\n",
       "      <td>3.0</td>\n",
       "      <td>3</td>\n",
       "      <td>3</td>\n",
       "      <td>0.0</td>\n",
       "      <td>0.0</td>\n",
       "    </tr>\n",
       "    <tr>\n",
       "      <th>8</th>\n",
       "      <td>01-14-2010</td>\n",
       "      <td>4.0</td>\n",
       "      <td>0.0</td>\n",
       "      <td>7.0</td>\n",
       "      <td>6</td>\n",
       "      <td>6</td>\n",
       "      <td>0.0</td>\n",
       "      <td>0.0</td>\n",
       "    </tr>\n",
       "    <tr>\n",
       "      <th>9</th>\n",
       "      <td>01-15-2010</td>\n",
       "      <td>6.0</td>\n",
       "      <td>1.0</td>\n",
       "      <td>3.0</td>\n",
       "      <td>4</td>\n",
       "      <td>4</td>\n",
       "      <td>0.0</td>\n",
       "      <td>0.0</td>\n",
       "    </tr>\n",
       "    <tr>\n",
       "      <th>10</th>\n",
       "      <td>01-18-2010</td>\n",
       "      <td>5.0</td>\n",
       "      <td>0.0</td>\n",
       "      <td>6.0</td>\n",
       "      <td>4</td>\n",
       "      <td>4</td>\n",
       "      <td>0.0</td>\n",
       "      <td>0.0</td>\n",
       "    </tr>\n",
       "    <tr>\n",
       "      <th>11</th>\n",
       "      <td>01-19-2010</td>\n",
       "      <td>5.0</td>\n",
       "      <td>1.0</td>\n",
       "      <td>5.0</td>\n",
       "      <td>5</td>\n",
       "      <td>5</td>\n",
       "      <td>0.0</td>\n",
       "      <td>0.0</td>\n",
       "    </tr>\n",
       "  </tbody>\n",
       "</table>\n",
       "</div>"
      ],
      "text/plain": [
       "      str_date  Negative  Neutral  Positive  Logoff  Logon  Connect  \\\n",
       "0   01-04-2010       4.0      1.0       6.0       3      3      0.0   \n",
       "1   01-05-2010       6.0      1.0       4.0       3      3      0.0   \n",
       "2   01-06-2010       4.0      1.0       5.0       3      3      0.0   \n",
       "3   01-07-2010       5.0      1.0       5.0       3      3      0.0   \n",
       "4   01-08-2010       6.0      0.0       4.0       4      4      0.0   \n",
       "5   01-11-2010       2.0      0.0       9.0       2      2      0.0   \n",
       "6   01-12-2010       5.0      0.0       6.0       5      5      0.0   \n",
       "7   01-13-2010       5.0      2.0       3.0       3      3      0.0   \n",
       "8   01-14-2010       4.0      0.0       7.0       6      6      0.0   \n",
       "9   01-15-2010       6.0      1.0       3.0       4      4      0.0   \n",
       "10  01-18-2010       5.0      0.0       6.0       4      4      0.0   \n",
       "11  01-19-2010       5.0      1.0       5.0       5      5      0.0   \n",
       "\n",
       "    Disconnect  \n",
       "0          0.0  \n",
       "1          0.0  \n",
       "2          0.0  \n",
       "3          0.0  \n",
       "4          0.0  \n",
       "5          0.0  \n",
       "6          0.0  \n",
       "7          0.0  \n",
       "8          0.0  \n",
       "9          0.0  \n",
       "10         0.0  \n",
       "11         0.0  "
      ]
     },
     "execution_count": 2,
     "metadata": {},
     "output_type": "execute_result"
    }
   ],
   "source": [
    "data=pd.read_csv('user_files\\\\BBS0039.csv')\n",
    "data.head(12)"
   ]
  },
  {
   "cell_type": "code",
   "execution_count": 3,
   "id": "54246064",
   "metadata": {},
   "outputs": [
    {
     "data": {
      "text/plain": [
       "['2010-01-04',\n",
       " '2010-01-05',\n",
       " '2010-01-06',\n",
       " '2010-01-07',\n",
       " '2010-01-08',\n",
       " '2010-01-11',\n",
       " '2010-01-12',\n",
       " '2010-01-13',\n",
       " '2010-01-14',\n",
       " '2010-01-15',\n",
       " '2010-01-18',\n",
       " '2010-01-19',\n",
       " '2010-01-20',\n",
       " '2010-01-21',\n",
       " '2010-01-22',\n",
       " '2010-01-25',\n",
       " '2010-01-26',\n",
       " '2010-01-27',\n",
       " '2010-01-28',\n",
       " '2010-01-29',\n",
       " '2010-02-01',\n",
       " '2010-02-02',\n",
       " '2010-02-03',\n",
       " '2010-02-04',\n",
       " '2010-02-05',\n",
       " '2010-02-08',\n",
       " '2010-02-09',\n",
       " '2010-02-10',\n",
       " '2010-02-11',\n",
       " '2010-02-12',\n",
       " '2010-02-15',\n",
       " '2010-02-16',\n",
       " '2010-02-17',\n",
       " '2010-02-18',\n",
       " '2010-02-19',\n",
       " '2010-02-22',\n",
       " '2010-02-23',\n",
       " '2010-02-24',\n",
       " '2010-02-25',\n",
       " '2010-02-26',\n",
       " '2010-03-01',\n",
       " '2010-03-02',\n",
       " '2010-03-03',\n",
       " '2010-03-04',\n",
       " '2010-03-05',\n",
       " '2010-03-08',\n",
       " '2010-03-09',\n",
       " '2010-03-10',\n",
       " '2010-03-11',\n",
       " '2010-03-12',\n",
       " '2010-03-15',\n",
       " '2010-03-16',\n",
       " '2010-03-17',\n",
       " '2010-03-18',\n",
       " '2010-03-19',\n",
       " '2010-03-22',\n",
       " '2010-03-23',\n",
       " '2010-03-24',\n",
       " '2010-03-25',\n",
       " '2010-03-26',\n",
       " '2010-03-29',\n",
       " '2010-03-30',\n",
       " '2010-03-31',\n",
       " '2010-04-01',\n",
       " '2010-04-05',\n",
       " '2010-04-06',\n",
       " '2010-04-07',\n",
       " '2010-04-08',\n",
       " '2010-04-09',\n",
       " '2010-04-12',\n",
       " '2010-04-13',\n",
       " '2010-04-14',\n",
       " '2010-04-15',\n",
       " '2010-04-16',\n",
       " '2010-04-19',\n",
       " '2010-04-20',\n",
       " '2010-04-21',\n",
       " '2010-04-22',\n",
       " '2010-04-23',\n",
       " '2010-04-26',\n",
       " '2010-04-27',\n",
       " '2010-04-28',\n",
       " '2010-04-29',\n",
       " '2010-04-30',\n",
       " '2010-05-03',\n",
       " '2010-05-04',\n",
       " '2010-05-05',\n",
       " '2010-05-06',\n",
       " '2010-05-07',\n",
       " '2010-05-10',\n",
       " '2010-05-11',\n",
       " '2010-05-12',\n",
       " '2010-05-13',\n",
       " '2010-05-14',\n",
       " '2010-05-17',\n",
       " '2010-05-18',\n",
       " '2010-05-19',\n",
       " '2010-05-20',\n",
       " '2010-05-21',\n",
       " '2010-05-24',\n",
       " '2010-05-25',\n",
       " '2010-05-26',\n",
       " '2010-05-27',\n",
       " '2010-05-28',\n",
       " '2010-06-01',\n",
       " '2010-06-02',\n",
       " '2010-06-03',\n",
       " '2010-06-04',\n",
       " '2010-06-07',\n",
       " '2010-06-08',\n",
       " '2010-06-09',\n",
       " '2010-06-10',\n",
       " '2010-06-11',\n",
       " '2010-06-14',\n",
       " '2010-06-15',\n",
       " '2010-06-16',\n",
       " '2010-06-17',\n",
       " '2010-06-18',\n",
       " '2010-06-21',\n",
       " '2010-06-22',\n",
       " '2010-06-23',\n",
       " '2010-06-24',\n",
       " '2010-06-25',\n",
       " '2010-06-28',\n",
       " '2010-06-29',\n",
       " '2010-06-30',\n",
       " '2010-07-01',\n",
       " '2010-07-02',\n",
       " '2010-07-06',\n",
       " '2010-07-07',\n",
       " '2010-07-08',\n",
       " '2010-07-09',\n",
       " '2010-07-12',\n",
       " '2010-07-13',\n",
       " '2010-07-14',\n",
       " '2010-07-15',\n",
       " '2010-07-16',\n",
       " '2010-07-19',\n",
       " '2010-07-20',\n",
       " '2010-07-21',\n",
       " '2010-07-22',\n",
       " '2010-07-23',\n",
       " '2010-07-26',\n",
       " '2010-07-27',\n",
       " '2010-07-28',\n",
       " '2010-07-29',\n",
       " '2010-07-30',\n",
       " '2010-08-02',\n",
       " '2010-08-03',\n",
       " '2010-08-04',\n",
       " '2010-08-05',\n",
       " '2010-08-06',\n",
       " '2010-08-09',\n",
       " '2010-08-10',\n",
       " '2010-08-11',\n",
       " '2010-08-12',\n",
       " '2010-08-13']"
      ]
     },
     "execution_count": 3,
     "metadata": {},
     "output_type": "execute_result"
    }
   ],
   "source": [
    "data['str_date']=pd.to_datetime(data['str_date'])\n",
    "d=list(data['str_date'].to_numpy())\n",
    "clean_dates=[]\n",
    "for i in d:\n",
    "    i=str(i).split('T')\n",
    "    clean_dates.append(i[0])\n",
    "clean_dates"
   ]
  },
  {
   "cell_type": "code",
   "execution_count": 4,
   "id": "cd3113d9",
   "metadata": {},
   "outputs": [
    {
     "data": {
      "text/plain": [
       "count    157.000000\n",
       "mean       4.222930\n",
       "std        1.398712\n",
       "min        2.000000\n",
       "25%        3.000000\n",
       "50%        4.000000\n",
       "75%        5.000000\n",
       "max        6.000000\n",
       "Name: Logoff, dtype: float64"
      ]
     },
     "execution_count": 4,
     "metadata": {},
     "output_type": "execute_result"
    }
   ],
   "source": [
    "data.describe()\n",
    "data['Logoff'].describe()"
   ]
  },
  {
   "cell_type": "code",
   "execution_count": 5,
   "id": "017b623a",
   "metadata": {},
   "outputs": [
    {
     "data": {
      "image/png": "[encoded data removed]",
      "text/plain": [
       "<Figure size 432x288 with 1 Axes>"
      ]
     },
     "metadata": {
      "needs_background": "light"
     },
     "output_type": "display_data"
    },
    {
     "data": {
      "image/png": "[encoded data removed]",
      "text/plain": [
       "<Figure size 432x288 with 1 Axes>"
      ]
     },
     "metadata": {
      "needs_background": "light"
     },
     "output_type": "display_data"
    },
    {
     "data": {
      "image/png": "[encoded data removed]",
      "text/plain": [
       "<Figure size 432x288 with 1 Axes>"
      ]
     },
     "metadata": {
      "needs_background": "light"
     },
     "output_type": "display_data"
    },
    {
     "data": {
      "image/png": "[encoded data removed]",
      "text/plain": [
       "<Figure size 432x288 with 1 Axes>"
      ]
     },
     "metadata": {
      "needs_background": "light"
     },
     "output_type": "display_data"
    },
    {
     "data": {
      "image/png": "[encoded data removed]",
      "text/plain": [
       "<Figure size 432x288 with 1 Axes>"
      ]
     },
     "metadata": {
      "needs_background": "light"
     },
     "output_type": "display_data"
    }
   ],
   "source": [
    "cols=list(data.columns)\n",
    "cols.remove('str_date')\n",
    "\n",
    "plt.xlabel(cols[0])\n",
    "plt.ylabel('frequency')\n",
    "sns.distplot(data[cols[0]])\n",
    "plt.show()\n",
    "plt.xlabel(cols[1])\n",
    "plt.ylabel('frequency')\n",
    "sns.distplot(data[cols[1]])\n",
    "plt.show()\n",
    "plt.xlabel(cols[2])\n",
    "plt.ylabel('frequency')\n",
    "sns.distplot(data[cols[2]])\n",
    "plt.show()\n",
    "plt.xlabel(cols[3])\n",
    "plt.ylabel('frequency')\n",
    "sns.distplot(data[cols[3]])\n",
    "plt.show()\n",
    "plt.xlabel(cols[4])\n",
    "plt.ylabel('frequency')\n",
    "sns.distplot(data[cols[4]])\n",
    "plt.show()"
   ]
  },
  {
   "cell_type": "markdown",
   "id": "b3aae8c4",
   "metadata": {},
   "source": [
    "### normalizing the data"
   ]
  },
  {
   "cell_type": "code",
   "execution_count": 6,
   "id": "974e7858",
   "metadata": {},
   "outputs": [],
   "source": [
    "scaler=MinMaxScaler()\n",
    "names=data.columns\n",
    "norm=pd.DataFrame(scaler.fit_transform(data.iloc[ :,1:]), columns=names[1: ])\n"
   ]
  },
  {
   "cell_type": "code",
   "execution_count": 7,
   "id": "f9676a90",
   "metadata": {},
   "outputs": [
    {
     "data": {
      "text/plain": [
       "count    1.570000e+02\n",
       "mean     2.036587e-16\n",
       "std      1.003200e+00\n",
       "min     -1.594355e+00\n",
       "25%     -8.771239e-01\n",
       "50%     -1.598924e-01\n",
       "75%      5.573392e-01\n",
       "max      1.274571e+00\n",
       "Name: Logoff, dtype: float64"
      ]
     },
     "execution_count": 7,
     "metadata": {},
     "output_type": "execute_result"
    }
   ],
   "source": [
    "standard=StandardScaler()\n",
    "s=pd.DataFrame(standard.fit_transform(data.iloc[:,1:]), columns=names[1: ])\n",
    "s['Logoff'].describe()"
   ]
  },
  {
   "cell_type": "code",
   "execution_count": 8,
   "id": "6d3451fa",
   "metadata": {},
   "outputs": [],
   "source": [
    "email_sentiments=data.iloc[:, [1,2, 3]]\n",
    "# f = Fitter(email_sentiments['Negative'].values)\n",
    "# f.fit()\n",
    "# f.summary()"
   ]
  },
  {
   "cell_type": "markdown",
   "id": "44d8ad93",
   "metadata": {},
   "source": [
    "### This method estimates the probabilities- Using hypercube kernel "
   ]
  },
  {
   "cell_type": "code",
   "execution_count": 9,
   "id": "35710b44",
   "metadata": {},
   "outputs": [
    {
     "name": "stdout",
     "output_type": "stream",
     "text": [
      "p(x) = 0.0\n"
     ]
    },
    {
     "data": {
      "text/plain": [
       "(157, 3)"
      ]
     },
     "execution_count": 9,
     "metadata": {},
     "output_type": "execute_result"
    }
   ],
   "source": [
    "def parzen_window_est(x_samples, h=1, center=[0,0,0]):\n",
    "    \n",
    "    '''\n",
    "    Implementation of the Parzen-window estimation for hypercubes.\n",
    "\n",
    "    Keyword arguments:\n",
    "        x_samples: A 'n x d'-dimensional numpy array, where each sample\n",
    "            is stored in a separate row.\n",
    "        h: The length of the hypercube.\n",
    "        center: The coordinate center of the hypercube\n",
    "\n",
    "    Returns the probability density for observing k samples inside the hypercube.\n",
    "\n",
    "    '''\n",
    "    dimensions = x_samples.shape[1]\n",
    "\n",
    "    assert (len(center) == dimensions),'Number of center coordinates have to match sample dimensions'\n",
    "    k = 0\n",
    "    for x in x_samples:\n",
    "        is_inside = 1\n",
    "        for axis,center_point in zip(x, center):\n",
    "            if np.abs(axis-center_point) > (h/2):\n",
    "                is_inside = 0\n",
    "        k += is_inside\n",
    "    return (k / len(x_samples)) / (h**dimensions)\n",
    "\n",
    "\n",
    "\n",
    "email_sentiments=data.iloc[:, [1,2, 3]]\n",
    "email_sentiments=email_sentiments.to_numpy()\n",
    "print('p(x) =', parzen_window_est(email_sentiments, h=1))\n",
    "email_sentiments.shape"
   ]
  },
  {
   "cell_type": "markdown",
   "id": "448bf478",
   "metadata": {},
   "source": [
    "### plotting the dataset to identify the underlying distribution of dataset"
   ]
  },
  {
   "cell_type": "code",
   "execution_count": 10,
   "id": "10ebaf80",
   "metadata": {},
   "outputs": [],
   "source": [
    "# dates_array=data['str_date'].to_numpy()\n",
    "# f, ax = plt.subplots(figsize=(7, 7))\n",
    "# ax.scatter(email_sentiments[:,0], email_sentiments[:,1],\n",
    "#         marker='o', color='green', s=4, alpha=0.5)\n",
    "# plt.title('plotting samples randomly from an unknown 2D distribution')\n",
    "# plt.ylabel('x2')\n",
    "# plt.xlabel('x1')\n",
    "# ftext = 'p(x) ~ N(mu=(0,0)^t, cov=I)'\n",
    "# plt.figtext(.15,.85, ftext, fontsize=11, ha='left')\n",
    "# plt.ylim([-4,4])\n",
    "# plt.xlim([-4,4])\n",
    "\n",
    "# plt.show()\n",
    "\n",
    "#not useful for now"
   ]
  },
  {
   "cell_type": "code",
   "execution_count": 11,
   "id": "3c2ddcb3",
   "metadata": {},
   "outputs": [],
   "source": [
    "# not be used because we have more than 3 variables\n",
    "def bivariate_normal(X, Y, sigmax=1.0, sigmay=1.0,\n",
    "                 mux=0.0, muy=0.0, sigmaxy=0.0):\n",
    "    \"\"\"\n",
    "    Bivariate Gaussian distribution for equal shape *X*, *Y*.\n",
    "    See `bivariate normal\n",
    "    <http://mathworld.wolfram.com/BivariateNormalDistribution.html>`_\n",
    "    at mathworld.\n",
    "    \"\"\"\n",
    "    Xmu = X-mux\n",
    "    Ymu = Y-muy\n",
    "\n",
    "    rho = sigmaxy/(sigmax*sigmay)\n",
    "    z = Xmu**2/sigmax**2 + Ymu**2/sigmay**2 - 2*rho*Xmu*Ymu/(sigmax*sigmay)\n",
    "    denom = 2*np.pi*sigmax*sigmay*np.sqrt(1-rho**2)\n",
    "    return np.exp(-z/(2*(1-rho**2))) / denom"
   ]
  },
  {
   "cell_type": "markdown",
   "id": "2cd85295",
   "metadata": {},
   "source": [
    "### this method calculates the actual densities"
   ]
  },
  {
   "cell_type": "code",
   "execution_count": 12,
   "id": "99ea43a0",
   "metadata": {},
   "outputs": [],
   "source": [
    "def pdf_multivariate_gauss(x, mu, cov):\n",
    "    '''\n",
    "    Caculate the multivariate normal density (pdf)\n",
    "\n",
    "    Keyword arguments:\n",
    "        x = numpy array of a \"d x 1\" sample vector\n",
    "        mu = numpy array of a \"d x 1\" mean vector\n",
    "        cov = \"numpy array of a d x d\" covariance matrix\n",
    "        this method implements the actual gaussian distribution formula\n",
    "    '''\n",
    "    assert(mu.shape[0] > mu.shape[1]),\\\n",
    "        'mu must be a row vector'\n",
    "    assert(x.shape[0] > x.shape[1]),\\\n",
    "        'x must be a row vector'\n",
    "    assert(cov.shape[0] == cov.shape[1]),\\\n",
    "        'covariance matrix must be square'\n",
    "    assert(mu.shape[0] == cov.shape[0]),\\\n",
    "        'cov_mat and mu_vec must have the same dimensions'\n",
    "    assert(mu.shape[0] == x.shape[0]),\\\n",
    "        'mu and x must have the same dimensions'\n",
    "\n",
    "    part1 = 1 / ( ((2* np.pi)**(len(mu)/2)) * (np.linalg.det(cov)**(1/2)) )\n",
    "    part2 = (-1/2) * ((x-mu).T.dot(np.linalg.inv(cov))).dot((x-mu))\n",
    "    return float(part1 * np.exp(part2))"
   ]
  },
  {
   "cell_type": "code",
   "execution_count": 13,
   "id": "fcfa1658",
   "metadata": {},
   "outputs": [
    {
     "ename": "SyntaxError",
     "evalue": "invalid syntax. Perhaps you forgot a comma? (208125192.py, line 1)",
     "output_type": "error",
     "traceback": [
      "\u001b[1;36m  Input \u001b[1;32mIn [13]\u001b[1;36m\u001b[0m\n\u001b[1;33m    x = np.array([[0],[0],[0]])how\u001b[0m\n\u001b[1;37m        ^\u001b[0m\n\u001b[1;31mSyntaxError\u001b[0m\u001b[1;31m:\u001b[0m invalid syntax. Perhaps you forgot a comma?\n"
     ]
    }
   ],
   "source": [
    "\n",
    "x = np.array([[0],[0],[0]])how\n",
    "mu = np.array([[0],[0],[0]])\n",
    "# print(mu.shape[0], email_sentiments.shape[0], email_sentiments.shape[1])\n",
    "cov = np.eye(3)\n",
    "\n",
    "mlab_gauss = bivariate_normal(x,x)\n",
    "mlab_gauss = float(mlab_gauss[0]) # because mlab returns an np.array\n",
    "impl_gauss = pdf_multivariate_gauss(x, mu, cov)\n",
    "\n",
    "print('mlab_gauss:', mlab_gauss)\n",
    "print('impl_gauss:', impl_gauss)\n",
    "assert(mlab_gauss == impl_gauss),\\\n",
    "        'Implementations of the mult. Gaussian return different pdfs'\n"
   ]
  },
  {
   "cell_type": "markdown",
   "id": "b96f9503",
   "metadata": {},
   "source": [
    "### Comparing the Parzen-window estimation to the actual densities"
   ]
  },
  {
   "cell_type": "code",
   "execution_count": 14,
   "id": "e67b2313",
   "metadata": {},
   "outputs": [
    {
     "name": "stdout",
     "output_type": "stream",
     "text": [
      "(157, 3)\n",
      "Predict p(x) at the center [0,0]: \n",
      "h = 0.1 ---> p(x) = 0.0\n",
      "h = 0.3 ---> p(x) = 0.0\n",
      "h = 0.6 ---> p(x) = 0.0\n",
      "h = 0.85 ---> p(x) = 0.0\n"
     ]
    }
   ],
   "source": [
    "##x_2Dguass is a randomly generated array of n samples, that follow a guassian distribution, but here I'll apply the actual data points \n",
    "print(email_sentiments.shape)\n",
    "print('Predict p(x) at the center [0,0]: ')\n",
    "\n",
    "print('h = 0.1 ---> p(x) =', parzen_window_est(email_sentiments, h=0.1, center=[0, 0,0])\n",
    "        )\n",
    "print('h = 0.3 ---> p(x) =',parzen_window_est(email_sentiments, h=0.3, center=[0,0, 0])\n",
    "        )\n",
    "print('h = 0.6 ---> p(x) =',parzen_window_est(email_sentiments, h=0.6, center=[0,0, 0])\n",
    "        )\n",
    "print('h = 0.85 ---> p(x) =',parzen_window_est(email_sentiments, h=0.85, center=[0,0, 0]))\n"
   ]
  },
  {
   "cell_type": "code",
   "execution_count": 15,
   "id": "3b5f6c06",
   "metadata": {},
   "outputs": [
    {
     "data": {
      "text/plain": [
       "array([4., 1., 6.])"
      ]
     },
     "execution_count": 15,
     "metadata": {},
     "output_type": "execute_result"
    }
   ],
   "source": [
    "# mu_vec = np.array([0,0])\n",
    "# cov_mat = np.array([[1,0],[0,1]])\n",
    "# x_2Dgauss = np.random.multivariate_normal(mu_vec, cov_mat, 10000)\n",
    "email_sentiments[0]"
   ]
  },
  {
   "cell_type": "code",
   "execution_count": 16,
   "id": "84caffd9",
   "metadata": {},
   "outputs": [
    {
     "ename": "AssertionError",
     "evalue": "mu and x must have the same dimensions",
     "output_type": "error",
     "traceback": [
      "\u001b[1;31m---------------------------------------------------------------------------\u001b[0m",
      "\u001b[1;31mAssertionError\u001b[0m                            Traceback (most recent call last)",
      "Input \u001b[1;32mIn [16]\u001b[0m, in \u001b[0;36m<cell line: 10>\u001b[1;34m()\u001b[0m\n\u001b[0;32m      7\u001b[0m mu \u001b[38;5;241m=\u001b[39m np\u001b[38;5;241m.\u001b[39marray([[\u001b[38;5;241m0\u001b[39m],[\u001b[38;5;241m0\u001b[39m], [\u001b[38;5;241m0\u001b[39m]])\n\u001b[0;32m      8\u001b[0m cov \u001b[38;5;241m=\u001b[39m np\u001b[38;5;241m.\u001b[39meye(\u001b[38;5;241m3\u001b[39m)\n\u001b[1;32m---> 10\u001b[0m a1 \u001b[38;5;241m=\u001b[39m \u001b[43mpdf_multivariate_gauss\u001b[49m\u001b[43m(\u001b[49m\u001b[43memail_sentiments\u001b[49m\u001b[43m,\u001b[49m\u001b[43m \u001b[49m\u001b[43mmu\u001b[49m\u001b[43m,\u001b[49m\u001b[43m \u001b[49m\u001b[43mcov\u001b[49m\u001b[43m)\u001b[49m\n\u001b[0;32m     11\u001b[0m a2 \u001b[38;5;241m=\u001b[39m pdf_multivariate_gauss(np\u001b[38;5;241m.\u001b[39marray([[\u001b[38;5;241m1\u001b[39m],[\u001b[38;5;241m2\u001b[39m], [\u001b[38;5;241m2\u001b[39m]]), mu, cov)\n\u001b[0;32m     12\u001b[0m a3 \u001b[38;5;241m=\u001b[39m pdf_multivariate_gauss(np\u001b[38;5;241m.\u001b[39marray([[\u001b[38;5;241m0\u001b[39m],[\u001b[38;5;241m2\u001b[39m],[\u001b[38;5;241m1\u001b[39m]]), mu, cov)\n",
      "Input \u001b[1;32mIn [12]\u001b[0m, in \u001b[0;36mpdf_multivariate_gauss\u001b[1;34m(x, mu, cov)\u001b[0m\n\u001b[0;32m     15\u001b[0m \u001b[38;5;28;01massert\u001b[39;00m(cov\u001b[38;5;241m.\u001b[39mshape[\u001b[38;5;241m0\u001b[39m] \u001b[38;5;241m==\u001b[39m cov\u001b[38;5;241m.\u001b[39mshape[\u001b[38;5;241m1\u001b[39m]),\\\n\u001b[0;32m     16\u001b[0m     \u001b[38;5;124m'\u001b[39m\u001b[38;5;124mcovariance matrix must be square\u001b[39m\u001b[38;5;124m'\u001b[39m\n\u001b[0;32m     17\u001b[0m \u001b[38;5;28;01massert\u001b[39;00m(mu\u001b[38;5;241m.\u001b[39mshape[\u001b[38;5;241m0\u001b[39m] \u001b[38;5;241m==\u001b[39m cov\u001b[38;5;241m.\u001b[39mshape[\u001b[38;5;241m0\u001b[39m]),\\\n\u001b[0;32m     18\u001b[0m     \u001b[38;5;124m'\u001b[39m\u001b[38;5;124mcov_mat and mu_vec must have the same dimensions\u001b[39m\u001b[38;5;124m'\u001b[39m\n\u001b[1;32m---> 19\u001b[0m \u001b[38;5;28;01massert\u001b[39;00m(mu\u001b[38;5;241m.\u001b[39mshape[\u001b[38;5;241m0\u001b[39m] \u001b[38;5;241m==\u001b[39m x\u001b[38;5;241m.\u001b[39mshape[\u001b[38;5;241m0\u001b[39m]),\\\n\u001b[0;32m     20\u001b[0m     \u001b[38;5;124m'\u001b[39m\u001b[38;5;124mmu and x must have the same dimensions\u001b[39m\u001b[38;5;124m'\u001b[39m\n\u001b[0;32m     22\u001b[0m part1 \u001b[38;5;241m=\u001b[39m \u001b[38;5;241m1\u001b[39m \u001b[38;5;241m/\u001b[39m ( ((\u001b[38;5;241m2\u001b[39m\u001b[38;5;241m*\u001b[39m np\u001b[38;5;241m.\u001b[39mpi)\u001b[38;5;241m*\u001b[39m\u001b[38;5;241m*\u001b[39m(\u001b[38;5;28mlen\u001b[39m(mu)\u001b[38;5;241m/\u001b[39m\u001b[38;5;241m2\u001b[39m)) \u001b[38;5;241m*\u001b[39m (np\u001b[38;5;241m.\u001b[39mlinalg\u001b[38;5;241m.\u001b[39mdet(cov)\u001b[38;5;241m*\u001b[39m\u001b[38;5;241m*\u001b[39m(\u001b[38;5;241m1\u001b[39m\u001b[38;5;241m/\u001b[39m\u001b[38;5;241m2\u001b[39m)) )\n\u001b[0;32m     23\u001b[0m part2 \u001b[38;5;241m=\u001b[39m (\u001b[38;5;241m-\u001b[39m\u001b[38;5;241m1\u001b[39m\u001b[38;5;241m/\u001b[39m\u001b[38;5;241m2\u001b[39m) \u001b[38;5;241m*\u001b[39m ((x\u001b[38;5;241m-\u001b[39mmu)\u001b[38;5;241m.\u001b[39mT\u001b[38;5;241m.\u001b[39mdot(np\u001b[38;5;241m.\u001b[39mlinalg\u001b[38;5;241m.\u001b[39minv(cov)))\u001b[38;5;241m.\u001b[39mdot((x\u001b[38;5;241m-\u001b[39mmu))\n",
      "\u001b[1;31mAssertionError\u001b[0m: mu and x must have the same dimensions"
     ]
    }
   ],
   "source": [
    "import prettytable\n",
    "\n",
    "p1 = parzen_window_est(email_sentiments, h=0.85, center=[0, 0,0])\n",
    "p2 = parzen_window_est(email_sentiments, h=21, center=[1, 2, 2])\n",
    "p3 = parzen_window_est(email_sentiments, h=2, center=[0, 2, 1])\n",
    "\n",
    "mu = np.array([[0],[0], [0]])\n",
    "cov = np.eye(3)\n",
    "\n",
    "a1 = pdf_multivariate_gauss(email_sentiments, mu, cov)\n",
    "a2 = pdf_multivariate_gauss(np.array([[1],[2], [2]]), mu, cov)\n",
    "a3 = pdf_multivariate_gauss(np.array([[0],[2],[1]]), mu, cov)\n",
    "\n",
    "results = prettytable.PrettyTable([\"\", \"predicted\", \"actual\"])\n",
    "results.add_row([\"p([0, 0, 0]^t\",p1, a1])\n",
    "results.add_row([\"p([0.5, 0.5, 0.5]^t\",p2, a2])\n",
    "results.add_row([\"p([0.3, 0.2, 0.4]^t\",p3, a3])\n",
    "\n",
    "print(results)"
   ]
  },
  {
   "cell_type": "markdown",
   "id": "d5d90c75",
   "metadata": {},
   "source": [
    "### using builtin gaussian kernel from scipy library"
   ]
  },
  {
   "cell_type": "code",
   "execution_count": 20,
   "id": "87a8461d",
   "metadata": {},
   "outputs": [
    {
     "name": "stdout",
     "output_type": "stream",
     "text": [
      "(3, 157)\n",
      "[2.56946954e-14]\n"
     ]
    }
   ],
   "source": [
    "from scipy.stats import kde\n",
    "print((email_sentiments.T).shape)\n",
    "density = kde.gaussian_kde(email_sentiments.T, bw_method=2.31)\n",
    "print(density.evaluate(np.array([[9],[8],[7]])))\n",
    "# email_sentiments"
   ]
  },
  {
   "cell_type": "code",
   "execution_count": null,
   "id": "e9603f08",
   "metadata": {},
   "outputs": [],
   "source": []
  },
  {
   "cell_type": "code",
   "execution_count": null,
   "id": "b13d70e7",
   "metadata": {},
   "outputs": [],
   "source": []
  }
 ],
 "metadata": {
  "kernelspec": {
   "display_name": "Python 3 (ipykernel)",
   "language": "python",
   "name": "python3"
  },
  "language_info": {
   "codemirror_mode": {
    "name": "ipython",
    "version": 3
   },
   "file_extension": ".py",
   "mimetype": "text/x-python",
   "name": "python",
   "nbconvert_exporter": "python",
   "pygments_lexer": "ipython3",
   "version": "3.10.0"
  }
 },
 "nbformat": 4,
 "nbformat_minor": 5
}
