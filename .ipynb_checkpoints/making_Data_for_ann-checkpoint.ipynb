{
 "cells": [
  {
   "cell_type": "code",
   "execution_count": 47,
   "id": "cb12920d",
   "metadata": {},
   "outputs": [],
   "source": [
    "\n",
    "import pandas as pd \n",
    "import numpy as np\n",
    "import os\n",
    "import warnings\n",
    "warnings.filterwarnings('ignore')\n",
    "\n"
   ]
  },
  {
   "cell_type": "markdown",
   "id": "e38b1105",
   "metadata": {},
   "source": [
    "### checking if malicious users exists in file_names"
   ]
  },
  {
   "cell_type": "code",
   "execution_count": 22,
   "id": "c5929dd7",
   "metadata": {},
   "outputs": [],
   "source": [
    "file_names=os.listdir('E:\\\\user_files')\n",
    "users=file_names[0:100]\n",
    "for i in range(len(users)):\n",
    "    name=users[i].split('.')\n",
    "    users[i]=name[0]\n",
    "    \n"
   ]
  },
  {
   "cell_type": "code",
   "execution_count": 23,
   "id": "793e91b6",
   "metadata": {},
   "outputs": [],
   "source": [
    "malicious_users=['BBS0039','BSS0369','CCA0046','CSC0217','GTD0219','JGT0221','JLM0364','JTM0223','MPM0220','MSO0222']\n",
    "\n",
    "w=np.array(users)\n",
    "nm=np.array(malicious_users)\n",
    "a=np.intersect1d(w, nm)\n",
    "# malicious_users.remove(a)\n",
    "users+=malicious_users"
   ]
  },
  {
   "cell_type": "code",
   "execution_count": 24,
   "id": "2d572482",
   "metadata": {},
   "outputs": [
    {
     "data": {
      "text/plain": [
       "110"
      ]
     },
     "execution_count": 24,
     "metadata": {},
     "output_type": "execute_result"
    }
   ],
   "source": [
    "len(users)"
   ]
  },
  {
   "cell_type": "code",
   "execution_count": 25,
   "id": "84912567",
   "metadata": {},
   "outputs": [],
   "source": [
    "mean=[]\n",
    "mod=[]\n",
    "median=[]\n",
    "userfile_name=[]\n",
    "for i in range(len(users)):\n",
    "    data=pd.read_csv(f'user_files//{users[i]}.csv')\n",
    "#     print(name)\n",
    "    userfile_name.append(users[i])\n",
    "    m1=data['Negative'].mean()\n",
    "    m2=data['Positive'].median()\n",
    "    m3=data['Neutral'].mode()\n",
    "    mean.append(m1)\n",
    "    mod.append(m3[0])\n",
    "    median.append(m2)"
   ]
  },
  {
   "cell_type": "markdown",
   "id": "5127168e",
   "metadata": {},
   "source": [
    "### Creating Dataset"
   ]
  },
  {
   "cell_type": "code",
   "execution_count": 26,
   "id": "0740b366",
   "metadata": {},
   "outputs": [
    {
     "name": "stdout",
     "output_type": "stream",
     "text": [
      "<class 'pandas.core.frame.DataFrame'>\n",
      "RangeIndex: 110 entries, 0 to 109\n",
      "Data columns (total 4 columns):\n",
      " #   Column  Non-Null Count  Dtype  \n",
      "---  ------  --------------  -----  \n",
      " 0   user    110 non-null    object \n",
      " 1   mean    110 non-null    float64\n",
      " 2   mode    110 non-null    float64\n",
      " 3   median  110 non-null    float64\n",
      "dtypes: float64(3), object(1)\n",
      "memory usage: 3.6+ KB\n"
     ]
    }
   ],
   "source": [
    "df=pd.DataFrame()\n",
    "df['user']=userfile_name\n",
    "df['mean']=mean\n",
    "df['mode']=mod\n",
    "df['median']=median\n",
    "df.info()"
   ]
  },
  {
   "cell_type": "markdown",
   "id": "e4083cf6",
   "metadata": {},
   "source": [
    "### Adding target column"
   ]
  },
  {
   "cell_type": "code",
   "execution_count": 45,
   "id": "6336ea56",
   "metadata": {},
   "outputs": [],
   "source": [
    "df['user_type']=0"
   ]
  },
  {
   "cell_type": "code",
   "execution_count": 46,
   "id": "90bbce31",
   "metadata": {},
   "outputs": [],
   "source": [
    "df.to_csv('data_for_ann.csv')"
   ]
  },
  {
   "cell_type": "code",
   "execution_count": 44,
   "id": "b0d8df9b",
   "metadata": {},
   "outputs": [],
   "source": [
    "# df['user_type']=np.where(df['user']=='BBS0039', 1,0)"
   ]
  },
  {
   "cell_type": "code",
   "execution_count": null,
   "id": "4c403add",
   "metadata": {},
   "outputs": [],
   "source": []
  },
  {
   "cell_type": "code",
   "execution_count": 32,
   "id": "233459c5",
   "metadata": {},
   "outputs": [],
   "source": [
    "\n"
   ]
  },
  {
   "cell_type": "code",
   "execution_count": 34,
   "id": "afa4bf05",
   "metadata": {},
   "outputs": [],
   "source": []
  },
  {
   "cell_type": "code",
   "execution_count": null,
   "id": "1365c7b5",
   "metadata": {},
   "outputs": [],
   "source": []
  },
  {
   "cell_type": "code",
   "execution_count": null,
   "id": "97f80392",
   "metadata": {},
   "outputs": [],
   "source": []
  },
  {
   "cell_type": "code",
   "execution_count": null,
   "id": "7d2ff620",
   "metadata": {},
   "outputs": [],
   "source": []
  },
  {
   "cell_type": "code",
   "execution_count": null,
   "id": "ae276cf1",
   "metadata": {},
   "outputs": [],
   "source": []
  },
  {
   "cell_type": "code",
   "execution_count": null,
   "id": "761576b3",
   "metadata": {},
   "outputs": [],
   "source": []
  },
  {
   "cell_type": "code",
   "execution_count": null,
   "id": "ffac5fb9",
   "metadata": {},
   "outputs": [],
   "source": []
  },
  {
   "cell_type": "code",
   "execution_count": 35,
   "id": "a971bcb6",
   "metadata": {},
   "outputs": [
    {
     "data": {
      "text/html": [
       "<div>\n",
       "<style scoped>\n",
       "    .dataframe tbody tr th:only-of-type {\n",
       "        vertical-align: middle;\n",
       "    }\n",
       "\n",
       "    .dataframe tbody tr th {\n",
       "        vertical-align: top;\n",
       "    }\n",
       "\n",
       "    .dataframe thead th {\n",
       "        text-align: right;\n",
       "    }\n",
       "</style>\n",
       "<table border=\"1\" class=\"dataframe\">\n",
       "  <thead>\n",
       "    <tr style=\"text-align: right;\">\n",
       "      <th></th>\n",
       "      <th>user</th>\n",
       "      <th>mean</th>\n",
       "      <th>mode</th>\n",
       "      <th>median</th>\n",
       "      <th>user_type</th>\n",
       "    </tr>\n",
       "  </thead>\n",
       "  <tbody>\n",
       "    <tr>\n",
       "      <th>90</th>\n",
       "      <td>BAK0964</td>\n",
       "      <td>0.416185</td>\n",
       "      <td>0.0</td>\n",
       "      <td>1.0</td>\n",
       "      <td>0</td>\n",
       "    </tr>\n",
       "    <tr>\n",
       "      <th>91</th>\n",
       "      <td>BAL0044</td>\n",
       "      <td>4.169540</td>\n",
       "      <td>0.0</td>\n",
       "      <td>6.0</td>\n",
       "      <td>0</td>\n",
       "    </tr>\n",
       "    <tr>\n",
       "      <th>92</th>\n",
       "      <td>BAM0611</td>\n",
       "      <td>6.641618</td>\n",
       "      <td>0.0</td>\n",
       "      <td>7.0</td>\n",
       "      <td>0</td>\n",
       "    </tr>\n",
       "    <tr>\n",
       "      <th>93</th>\n",
       "      <td>BAM0636</td>\n",
       "      <td>0.609827</td>\n",
       "      <td>0.0</td>\n",
       "      <td>2.0</td>\n",
       "      <td>0</td>\n",
       "    </tr>\n",
       "    <tr>\n",
       "      <th>94</th>\n",
       "      <td>BBG0325</td>\n",
       "      <td>6.667630</td>\n",
       "      <td>0.0</td>\n",
       "      <td>7.0</td>\n",
       "      <td>0</td>\n",
       "    </tr>\n",
       "    <tr>\n",
       "      <th>95</th>\n",
       "      <td>BBH0810</td>\n",
       "      <td>3.462428</td>\n",
       "      <td>0.0</td>\n",
       "      <td>5.0</td>\n",
       "      <td>0</td>\n",
       "    </tr>\n",
       "    <tr>\n",
       "      <th>96</th>\n",
       "      <td>BBS0039</td>\n",
       "      <td>4.121019</td>\n",
       "      <td>0.0</td>\n",
       "      <td>6.0</td>\n",
       "      <td>1</td>\n",
       "    </tr>\n",
       "    <tr>\n",
       "      <th>97</th>\n",
       "      <td>BBS0422</td>\n",
       "      <td>3.822816</td>\n",
       "      <td>0.0</td>\n",
       "      <td>4.0</td>\n",
       "      <td>0</td>\n",
       "    </tr>\n",
       "    <tr>\n",
       "      <th>98</th>\n",
       "      <td>BCB0679</td>\n",
       "      <td>2.911032</td>\n",
       "      <td>0.0</td>\n",
       "      <td>5.0</td>\n",
       "      <td>0</td>\n",
       "    </tr>\n",
       "    <tr>\n",
       "      <th>99</th>\n",
       "      <td>BCM0653</td>\n",
       "      <td>0.985549</td>\n",
       "      <td>0.0</td>\n",
       "      <td>2.0</td>\n",
       "      <td>0</td>\n",
       "    </tr>\n",
       "    <tr>\n",
       "      <th>100</th>\n",
       "      <td>BBS0039</td>\n",
       "      <td>4.121019</td>\n",
       "      <td>0.0</td>\n",
       "      <td>6.0</td>\n",
       "      <td>1</td>\n",
       "    </tr>\n",
       "    <tr>\n",
       "      <th>101</th>\n",
       "      <td>BSS0369</td>\n",
       "      <td>3.945607</td>\n",
       "      <td>0.0</td>\n",
       "      <td>5.0</td>\n",
       "      <td>0</td>\n",
       "    </tr>\n",
       "    <tr>\n",
       "      <th>102</th>\n",
       "      <td>CCA0046</td>\n",
       "      <td>3.880597</td>\n",
       "      <td>0.0</td>\n",
       "      <td>6.0</td>\n",
       "      <td>0</td>\n",
       "    </tr>\n",
       "    <tr>\n",
       "      <th>103</th>\n",
       "      <td>CSC0217</td>\n",
       "      <td>3.805310</td>\n",
       "      <td>0.0</td>\n",
       "      <td>6.0</td>\n",
       "      <td>0</td>\n",
       "    </tr>\n",
       "    <tr>\n",
       "      <th>104</th>\n",
       "      <td>GTD0219</td>\n",
       "      <td>4.516949</td>\n",
       "      <td>0.0</td>\n",
       "      <td>6.0</td>\n",
       "      <td>0</td>\n",
       "    </tr>\n",
       "    <tr>\n",
       "      <th>105</th>\n",
       "      <td>JGT0221</td>\n",
       "      <td>4.248175</td>\n",
       "      <td>0.0</td>\n",
       "      <td>6.0</td>\n",
       "      <td>0</td>\n",
       "    </tr>\n",
       "    <tr>\n",
       "      <th>106</th>\n",
       "      <td>JLM0364</td>\n",
       "      <td>4.077612</td>\n",
       "      <td>0.0</td>\n",
       "      <td>6.0</td>\n",
       "      <td>0</td>\n",
       "    </tr>\n",
       "    <tr>\n",
       "      <th>107</th>\n",
       "      <td>JTM0223</td>\n",
       "      <td>4.401408</td>\n",
       "      <td>0.0</td>\n",
       "      <td>6.0</td>\n",
       "      <td>0</td>\n",
       "    </tr>\n",
       "    <tr>\n",
       "      <th>108</th>\n",
       "      <td>MPM0220</td>\n",
       "      <td>4.238532</td>\n",
       "      <td>0.0</td>\n",
       "      <td>6.0</td>\n",
       "      <td>0</td>\n",
       "    </tr>\n",
       "    <tr>\n",
       "      <th>109</th>\n",
       "      <td>MSO0222</td>\n",
       "      <td>4.087866</td>\n",
       "      <td>0.0</td>\n",
       "      <td>6.0</td>\n",
       "      <td>0</td>\n",
       "    </tr>\n",
       "  </tbody>\n",
       "</table>\n",
       "</div>"
      ],
      "text/plain": [
       "        user      mean  mode  median  user_type\n",
       "90   BAK0964  0.416185   0.0     1.0          0\n",
       "91   BAL0044  4.169540   0.0     6.0          0\n",
       "92   BAM0611  6.641618   0.0     7.0          0\n",
       "93   BAM0636  0.609827   0.0     2.0          0\n",
       "94   BBG0325  6.667630   0.0     7.0          0\n",
       "95   BBH0810  3.462428   0.0     5.0          0\n",
       "96   BBS0039  4.121019   0.0     6.0          1\n",
       "97   BBS0422  3.822816   0.0     4.0          0\n",
       "98   BCB0679  2.911032   0.0     5.0          0\n",
       "99   BCM0653  0.985549   0.0     2.0          0\n",
       "100  BBS0039  4.121019   0.0     6.0          1\n",
       "101  BSS0369  3.945607   0.0     5.0          0\n",
       "102  CCA0046  3.880597   0.0     6.0          0\n",
       "103  CSC0217  3.805310   0.0     6.0          0\n",
       "104  GTD0219  4.516949   0.0     6.0          0\n",
       "105  JGT0221  4.248175   0.0     6.0          0\n",
       "106  JLM0364  4.077612   0.0     6.0          0\n",
       "107  JTM0223  4.401408   0.0     6.0          0\n",
       "108  MPM0220  4.238532   0.0     6.0          0\n",
       "109  MSO0222  4.087866   0.0     6.0          0"
      ]
     },
     "execution_count": 35,
     "metadata": {},
     "output_type": "execute_result"
    }
   ],
   "source": []
  },
  {
   "cell_type": "code",
   "execution_count": null,
   "id": "436c0075",
   "metadata": {},
   "outputs": [],
   "source": []
  }
 ],
 "metadata": {
  "kernelspec": {
   "display_name": "Python 3 (ipykernel)",
   "language": "python",
   "name": "python3"
  },
  "language_info": {
   "codemirror_mode": {
    "name": "ipython",
    "version": 3
   },
   "file_extension": ".py",
   "mimetype": "text/x-python",
   "name": "python",
   "nbconvert_exporter": "python",
   "pygments_lexer": "ipython3",
   "version": "3.10.0"
  }
 },
 "nbformat": 4,
 "nbformat_minor": 5
}
