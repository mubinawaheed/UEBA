{
 "cells": [
  {
   "cell_type": "code",
   "execution_count": 31,
   "id": "166f3093",
   "metadata": {},
   "outputs": [],
   "source": [
    "from sklearn.model_selection import train_test_split\n",
    "import pandas as pd \n",
    "import numpy as np\n",
    "import os\n",
    "import warnings\n",
    "warnings.filterwarnings('ignore')\n",
    "from tensorflow.keras.models import Sequential\n",
    "from tensorflow.keras.layers import Dense\n",
    "from keras.utils import to_categorical\n",
    "from sklearn.model_selection import train_test_split\n",
    "import tensorflow as tf\n",
    "from sklearn.metrics import confusion_matrix, accuracy_score, precision_score, recall_score, f1_score\n",
    "from sklearn.neighbors import KNeighborsClassifier\n"
   ]
  },
  {
   "cell_type": "code",
   "execution_count": 3,
   "id": "10e4d1a1",
   "metadata": {},
   "outputs": [],
   "source": [
    "data=pd.read_csv('data_for_ann.csv')"
   ]
  },
  {
   "cell_type": "code",
   "execution_count": 4,
   "id": "d3f9734d",
   "metadata": {},
   "outputs": [],
   "source": [
    "data.drop(['Unnamed: 0'], axis=1, inplace=True)"
   ]
  },
  {
   "cell_type": "code",
   "execution_count": 5,
   "id": "205a0490",
   "metadata": {},
   "outputs": [],
   "source": [
    "data.drop(['user'], axis=1, inplace=True)"
   ]
  },
  {
   "cell_type": "code",
   "execution_count": 6,
   "id": "ba8a9ecc",
   "metadata": {},
   "outputs": [],
   "source": [
    "x=data.iloc[:,0:3]\n",
    "y=data.iloc[:,3]\n"
   ]
  },
  {
   "cell_type": "code",
   "execution_count": 50,
   "id": "2ed68e34",
   "metadata": {},
   "outputs": [],
   "source": [
    "X_train, X_test, y_train, y_test = train_test_split(x, y, test_size=0.3, random_state=42)"
   ]
  },
  {
   "cell_type": "code",
   "execution_count": 28,
   "id": "985c9fa9",
   "metadata": {},
   "outputs": [
    {
     "name": "stdout",
     "output_type": "stream",
     "text": [
      "Epoch 1/20\n",
      "1/1 [==============================] - 1s 1s/step - loss: 1.3866 - recall_9: 1.0000\n",
      "Epoch 2/20\n",
      "1/1 [==============================] - 0s 18ms/step - loss: 1.3664 - recall_9: 1.0000\n",
      "Epoch 3/20\n",
      "1/1 [==============================] - 0s 10ms/step - loss: 1.3466 - recall_9: 1.0000\n",
      "Epoch 4/20\n",
      "1/1 [==============================] - 0s 14ms/step - loss: 1.3270 - recall_9: 1.0000\n",
      "Epoch 5/20\n",
      "1/1 [==============================] - 0s 15ms/step - loss: 1.3077 - recall_9: 1.0000\n",
      "Epoch 6/20\n",
      "1/1 [==============================] - 0s 11ms/step - loss: 1.2888 - recall_9: 1.0000\n",
      "Epoch 7/20\n",
      "1/1 [==============================] - 0s 12ms/step - loss: 1.2702 - recall_9: 1.0000\n",
      "Epoch 8/20\n",
      "1/1 [==============================] - 0s 13ms/step - loss: 1.2520 - recall_9: 1.0000\n",
      "Epoch 9/20\n",
      "1/1 [==============================] - 0s 15ms/step - loss: 1.2343 - recall_9: 1.0000\n",
      "Epoch 10/20\n",
      "1/1 [==============================] - 0s 16ms/step - loss: 1.2173 - recall_9: 1.0000\n",
      "Epoch 11/20\n",
      "1/1 [==============================] - 0s 14ms/step - loss: 1.2013 - recall_9: 1.0000\n",
      "Epoch 12/20\n",
      "1/1 [==============================] - 0s 13ms/step - loss: 1.1859 - recall_9: 1.0000\n",
      "Epoch 13/20\n",
      "1/1 [==============================] - 0s 17ms/step - loss: 1.1711 - recall_9: 1.0000\n",
      "Epoch 14/20\n",
      "1/1 [==============================] - 0s 11ms/step - loss: 1.1569 - recall_9: 1.0000\n",
      "Epoch 15/20\n",
      "1/1 [==============================] - 0s 18ms/step - loss: 1.1430 - recall_9: 1.0000\n",
      "Epoch 16/20\n",
      "1/1 [==============================] - 0s 15ms/step - loss: 1.1295 - recall_9: 1.0000\n",
      "Epoch 17/20\n",
      "1/1 [==============================] - 0s 13ms/step - loss: 1.1163 - recall_9: 1.0000\n",
      "Epoch 18/20\n",
      "1/1 [==============================] - 0s 16ms/step - loss: 1.1034 - recall_9: 1.0000\n",
      "Epoch 19/20\n",
      "1/1 [==============================] - 0s 16ms/step - loss: 1.0908 - recall_9: 1.0000\n",
      "Epoch 20/20\n",
      "1/1 [==============================] - 0s 19ms/step - loss: 1.0785 - recall_9: 1.0000\n",
      "1/1 [==============================] - 0s 79ms/step\n",
      "\n",
      "PREDICTED [1, 1, 0, 1, 1, 1, 1, 1, 1, 0, 0, 1, 0, 0, 1, 0, 1, 0, 1, 0, 0, 0]\n",
      "1/1 [==============================] - 0s 251ms/step - loss: 1.1303 - recall_9: 1.0000\n",
      "_ 1.1302624940872192\n",
      "Accuracy: 100.00\n",
      "78     0\n",
      "10     0\n",
      "4      0\n",
      "84     0\n",
      "64     0\n",
      "68     0\n",
      "30     0\n",
      "45     0\n",
      "96     0\n",
      "11     0\n",
      "79     0\n",
      "80     0\n",
      "0      0\n",
      "81     0\n",
      "18     0\n",
      "70     0\n",
      "56     0\n",
      "72     0\n",
      "107    1\n",
      "42     0\n",
      "12     0\n",
      "36     0\n",
      "Name: user_type, dtype: int64\n",
      "\n",
      "Confusion matrix: [[10 11]\n",
      " [ 0  1]]\n",
      "\n",
      "recall: 1.0\n",
      "\n",
      "precision 0.08333333333333333\n"
     ]
    }
   ],
   "source": [
    "initializer=tf.keras.initializers.HeNormal()\n",
    "model = Sequential()\n",
    "model.add(Dense(8, input_shape=(3,), activation='relu', kernel_initializer=initializer))\n",
    "model.add(Dense(8, activation='relu',kernel_initializer=initializer))\n",
    "model.add(Dense(7, activation='relu'))\n",
    "\n",
    "model.add(Dense(1, activation='sigmoid'))\n",
    "model.compile(loss='binary_crossentropy', optimizer='adam', metrics=[tf.keras.metrics.Recall(thresholds=0.7)])\n",
    "\n",
    "# fit the keras model on the dataset\n",
    "model.fit(X_train, y_train, epochs=20, batch_size=X_train.shape[0])\n",
    "\n",
    "# evaluate the keras model\n",
    "pred=model.predict(X_test)\n",
    "int_pred=[]\n",
    "for i in pred:\n",
    "    int_pred.append(int(i>0.7))\n",
    "print(\"\\nPREDICTED\", int_pred)\n",
    "\n",
    "\n",
    "_, accuracy = model.evaluate(X_test, y_test)\n",
    "print('_', _)\n",
    "print('Accuracy: %.2f' % (accuracy*100))\n",
    "print(y_test)\n",
    "print(\"\\nConfusion matrix:\", confusion_matrix(y_test, int_pred))\n",
    "print(\"\\nrecall:\", recall_score(y_test, int_pred))\n",
    "print(\"\\nprecision\", precision_score(y_test, int_pred))\n"
   ]
  },
  {
   "cell_type": "code",
   "execution_count": 29,
   "id": "f6858a58",
   "metadata": {},
   "outputs": [],
   "source": [
    "model.save_weights('weights.h5')"
   ]
  },
  {
   "cell_type": "code",
   "execution_count": 30,
   "id": "64dae2f9",
   "metadata": {},
   "outputs": [],
   "source": [
    "model.save('model.h5')"
   ]
  },
  {
   "cell_type": "code",
   "execution_count": 31,
   "id": "f8b8880c",
   "metadata": {},
   "outputs": [
    {
     "name": "stdout",
     "output_type": "stream",
     "text": [
      "Model: \"sequential_10\"\n",
      "_________________________________________________________________\n",
      " Layer (type)                Output Shape              Param #   \n",
      "=================================================================\n",
      " dense_40 (Dense)            (None, 8)                 32        \n",
      "                                                                 \n",
      " dense_41 (Dense)            (None, 8)                 72        \n",
      "                                                                 \n",
      " dense_42 (Dense)            (None, 7)                 63        \n",
      "                                                                 \n",
      " dense_43 (Dense)            (None, 1)                 8         \n",
      "                                                                 \n",
      "=================================================================\n",
      "Total params: 175\n",
      "Trainable params: 175\n",
      "Non-trainable params: 0\n",
      "_________________________________________________________________\n"
     ]
    }
   ],
   "source": [
    "new_model = tf.keras.models.load_model('model.h5')\n",
    "new_model.summary()\n"
   ]
  },
  {
   "cell_type": "markdown",
   "id": "53a4cc5d",
   "metadata": {},
   "source": [
    "### Applying KNN "
   ]
  },
  {
   "cell_type": "code",
   "execution_count": 51,
   "id": "8404f14e",
   "metadata": {},
   "outputs": [
    {
     "name": "stdout",
     "output_type": "stream",
     "text": [
      "train accuracy 0.9473684210526315\n",
      "test accuracy 0.8787878787878788\n",
      "recall 1.0\n",
      "precision 0.2\n",
      "[[28  4]\n",
      " [ 0  1]]\n",
      "f1 score 0.33333333333333337\n",
      "predicted value: [0 0 0 0 1 0 0 1 1 0 0 0 0 0 0 0 0 0 1 0 0 0 0 0 0 0 0 1 0 0 0 0 0]\n",
      "78     0\n",
      "10     0\n",
      "4      0\n",
      "84     0\n",
      "64     0\n",
      "68     0\n",
      "30     0\n",
      "45     0\n",
      "96     0\n",
      "11     0\n",
      "79     0\n",
      "80     0\n",
      "0      0\n",
      "81     0\n",
      "18     0\n",
      "70     0\n",
      "56     0\n",
      "72     0\n",
      "107    1\n",
      "42     0\n",
      "12     0\n",
      "36     0\n",
      "65     0\n",
      "26     0\n",
      "22     0\n",
      "31     0\n",
      "47     0\n",
      "76     0\n",
      "15     0\n",
      "44     0\n",
      "89     0\n",
      "90     0\n",
      "9      0\n",
      "Name: user_type, dtype: int64\n"
     ]
    }
   ],
   "source": [
    "knn=KNeighborsClassifier(n_neighbors=7, weights='uniform', algorithm='auto', leaf_size=30, \n",
    "                        p=2, metric='minkowski', metric_params=None, n_jobs=None)\n",
    "knn.fit(X_train, y_train)\n",
    "print(f'train accuracy {knn.score(X_train, y_train)}')\n",
    "print(f'test accuracy {knn.score(X_test, y_test)}')\n",
    "print(f'recall {recall_score(y_test, knn.predict(X_test))}')\n",
    "print(f'precision {precision_score(y_test, knn.predict(X_test))}')\n",
    "print(confusion_matrix(y_test, knn.predict(X_test)))\n",
    "print(\"f1 score\", f1_score(y_test, knn.predict(X_test)))\n",
    "print(f'predicted value: {knn.predict(X_test)}')\n",
    "print(f'{y_test}')\n"
   ]
  },
  {
   "cell_type": "code",
   "execution_count": null,
   "id": "e70e5059",
   "metadata": {},
   "outputs": [],
   "source": []
  },
  {
   "cell_type": "code",
   "execution_count": null,
   "id": "b3e9451c",
   "metadata": {},
   "outputs": [],
   "source": []
  },
  {
   "cell_type": "code",
   "execution_count": null,
   "id": "29f9db54",
   "metadata": {},
   "outputs": [],
   "source": []
  },
  {
   "cell_type": "code",
   "execution_count": null,
   "id": "360eca2d",
   "metadata": {},
   "outputs": [],
   "source": []
  }
 ],
 "metadata": {
  "kernelspec": {
   "display_name": "Python 3 (ipykernel)",
   "language": "python",
   "name": "python3"
  },
  "language_info": {
   "codemirror_mode": {
    "name": "ipython",
    "version": 3
   },
   "file_extension": ".py",
   "mimetype": "text/x-python",
   "name": "python",
   "nbconvert_exporter": "python",
   "pygments_lexer": "ipython3",
   "version": "3.10.0"
  }
 },
 "nbformat": 4,
 "nbformat_minor": 5
}
